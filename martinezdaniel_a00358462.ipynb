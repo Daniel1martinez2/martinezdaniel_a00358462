{
 "cells": [
  {
   "cell_type": "markdown",
   "id": "296f2cee",
   "metadata": {
    "vscode": {
     "languageId": "latex"
    }
   },
   "source": [
    "\n",
    "# Daniel Martínez V\n",
    "\n",
    "## Biografía\n",
    "Soy Daniel Martínez, tengo 22 años y soy egresado de la carrera de Diseño de Medios Interactivos, me gradué en 2023. Actualmente, me encuentro realizando una maestría en Ciencia de Datos en la Universidad ICESI. Disfruto resolver problemas complejos utilizando código, y particularmente me gusta mucho la ciencia de datos porque es la combinación perfecta entre matemáticas/estadística, programación e investigación. Una vez escuché que ser un científico de datos es como ser un mago y un detective: mago porque podemos predecir comportamientos, y detective porque encontramos patrones que a simple vista son imposibles de determinar.\n",
    "\n",
    "Actualmente, soy programador full stack en una startup de San Francisco, Estados Unidos. En esta empresa, realizamos análisis de datos en el campo de la oncología, revisando y clasificando investigaciones médicas sobre fármacos. Toco la guitarra desde los 14 años y estoy aprendiendo a tocar el violín, lo cual ha sido una experiencia muy gratificante.\n",
    "\n",
    "Mi personaje de ficción favorito es Sherlock Holmes, cuya capacidad de deducción y análisis siempre me ha inspirado. Además, disfruto de la pizza con piña, a pesar de la controversia que pueda generar. Me considero una persona curiosa y perseverante, siempre buscando nuevos desafíos que me permitan crecer tanto personal como profesionalmente.\n",
    "\n",
    "\n",
    "## Imagen\n",
    "<img style=\"display: block;-webkit-user-select: none;margin: auto;cursor: zoom-in;background-color: hsl(0, 0%, 90%);transition: background-color 300ms;\" src=\"https://external-content.duckduckgo.com/iu/?u=http%3A%2F%2Fvsuspectator.com%2Fwp-content%2Fuploads%2Fsites%2F55%2F2018%2F11%2FThe-Haunting-of-Hill-House-Poster.jpg&amp;f=1&amp;nofb=1&amp;ipt=f75c6c14ef82906ba77714259371cac7de29863d2607a03b69d63a85c60aa975&amp;ipo=images\" width=\"884\" height=\"497\">\n",
    "\n",
    "Haunting of Hill house es la serie más reciente que he visto, la recomiendo mucho si les gusta el genero de terror\n",
    "\n",
    "## Canciones\n",
    "\n",
    "- Aberdeen\n",
    "\t- _Cage the elephant_\n",
    "\t\t- _Brad Shultz, Jared Champion, Lincoln Parish, Matt Shultz, Daniel Tichenor_\n",
    "- Otherside\n",
    "\t- _Red hot chili peppers_\n",
    "\t\t- _Anthony Kiedis, Flea, John Frusciante, Chad Smith_\n",
    "- Everlong\n",
    "\t- _Foo fighters_\n",
    "\t\t- _Dave Grohl_\n",
    "- Satisfied\n",
    "\t- _Hamilton_\n",
    "\t\t- _Lin-Manuel Miranda_\n",
    "- Iris\n",
    "\t- _The Goo Goo Dolls_\n",
    "\t\t- _John Rzeznik_\n",
    "\n",
    "## Asignaturas favoritas\n",
    "\n",
    "\n",
    "|Asignatura | Educación             | Razón \t|\n",
    "|-----------|-----------------------|-----------|\n",
    "| STI        |  Pregrado             |\tRealizamos algorítmos de recomendación\t\t|\n",
    "| IoT        | Pregrado (Electiva)   |\tConstruimos sensores con ESP32\t\t|\n",
    "| Análisis cuantitativo | Maestría | Aplicamos regresión Lineal|\n",
    "| Fundamentos de analítica 1 | Maestría | Resolvimos el reto de pasajeros del titanic, con un accuracy de 93% |\n",
    "| HCI | Pregrado | Realizamos investigaciones sobre la mejor distribución de teclado |"
   ]
  }
 ],
 "metadata": {
  "kernelspec": {
   "display_name": "personal",
   "language": "python",
   "name": "python3"
  },
  "language_info": {
   "codemirror_mode": {
    "name": "ipython",
    "version": 3
   },
   "file_extension": ".py",
   "mimetype": "text/x-python",
   "name": "python",
   "nbconvert_exporter": "python",
   "pygments_lexer": "ipython3",
   "version": "3.8.15"
  }
 },
 "nbformat": 4,
 "nbformat_minor": 5
}
